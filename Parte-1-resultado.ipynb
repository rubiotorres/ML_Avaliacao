{
 "cells": [
  {
   "cell_type": "markdown",
   "metadata": {},
   "source": [
    "## Prática: Criação da configuração experimental e avaliação dos resultados"
   ]
  },
  {
   "cell_type": "markdown",
   "metadata": {},
   "source": [
    "Nesta prática você irá terminar de desenvolver o código responsável por dividir o dataset em folds, métricas dos resultados e execução do método (Parte 1, no arquivo `resultados.py` e `metodo.py`), avaliação e configuração de parametros (Parte 2, no arquivo `avaliacao.py`) e, finalmente, irá aplicar isso em um cenário de classificação de segmentos de imagens de texturas diversas.\n",
    "\n",
    "[Veja os slides sobre as métricas de avaliação](https://docs.google.com/presentation/d/1u5x2b9BxmGXAWtfe9WanBIdqrt2k2ArKuEGY5Ks-okA/edit?usp=sharing)"
   ]
  },
  {
   "cell_type": "markdown",
   "metadata": {},
   "source": [
    "## Antes de começar..."
   ]
  },
  {
   "cell_type": "markdown",
   "metadata": {},
   "source": [
    "Lembre-se da [aula de classes em Python](https://daniel-hasan.github.io/cefet-web-grad/classes/python2/), mais especificamente:[Propriedades](https://www.youtube.com/watch?v=ocezOnXIzrc&list=PLwIaU1DGYV6skjkahOKtpgs9bPXlrVrIp&index=7) , [objetos que podem ser chamados](https://www.youtube.com/watch?v=EXmr7zttGWE&list=PLwIaU1DGYV6skjkahOKtpgs9bPXlrVrIp&index=9), [classes e herança](https://www.youtube.com/watch?v=zEP8baA_1lQ&list=PLwIaU1DGYV6skjkahOKtpgs9bPXlrVrIp&index=10)"
   ]
  },
  {
   "cell_type": "markdown",
   "metadata": {},
   "source": [
    "**Dependencias: ** Para esta prática, você deverá instalar o optuna e o hiplot:"
   ]
  },
  {
   "cell_type": "code",
   "execution_count": 1,
   "metadata": {},
   "outputs": [
    {
     "name": "stdout",
     "output_type": "stream",
     "text": [
      "Collecting optuna\n",
      "  Downloading https://files.pythonhosted.org/packages/06/b0/9a6313c78bca92abfacc08a2ad8b27bfe845256f615786ee2b6452ae1978/optuna-2.0.0.tar.gz (226kB)\n",
      "\u001b[K    100% |████████████████████████████████| 235kB 1.1MB/s ta 0:00:01\n",
      "\u001b[?25hCollecting hiplot\n",
      "  Using cached https://files.pythonhosted.org/packages/51/83/26df39fa337d0cf3695172759bf09d5b74193b85e88286e293b0656ddf6e/hiplot-0.1.18-py3-none-any.whl\n",
      "Collecting numpy\n",
      "  Using cached https://files.pythonhosted.org/packages/22/e7/4b2bdddb99f5f631d8c1de259897c2b7d65dcfcc1e0a6fd17a7f62923500/numpy-1.19.1-cp36-cp36m-manylinux1_x86_64.whl\n",
      "Collecting alembic (from optuna)\n",
      "Collecting cliff (from optuna)\n",
      "  Using cached https://files.pythonhosted.org/packages/52/59/4db149d8962dc29a37c8bc08cd79185935527af9a27259a2d80cac707212/cliff-3.3.0-py3-none-any.whl\n",
      "Collecting cmaes>=0.5.1 (from optuna)\n",
      "  Downloading https://files.pythonhosted.org/packages/63/88/d5e9b78151dce671d7e78ee4cc8905d83208254caa2a386b163ae0ab0027/cmaes-0.6.0-py3-none-any.whl\n",
      "Collecting colorlog (from optuna)\n",
      "  Using cached https://files.pythonhosted.org/packages/2a/81/12d77537c82c5d46aa2721dfee25a0e873ef5920ebd0827152f411effb57/colorlog-4.2.1-py2.py3-none-any.whl\n",
      "Collecting joblib (from optuna)\n",
      "  Using cached https://files.pythonhosted.org/packages/51/dd/0e015051b4a27ec5a58b02ab774059f3289a94b0906f880a3f9507e74f38/joblib-0.16.0-py3-none-any.whl\n",
      "Collecting packaging (from optuna)\n",
      "  Using cached https://files.pythonhosted.org/packages/46/19/c5ab91b1b05cfe63cccd5cfc971db9214c6dd6ced54e33c30d5af1d2bc43/packaging-20.4-py2.py3-none-any.whl\n",
      "Collecting scipy!=1.4.0 (from optuna)\n",
      "  Downloading https://files.pythonhosted.org/packages/2b/a8/f4c66eb529bb252d50e83dbf2909c6502e2f857550f22571ed8556f62d95/scipy-1.5.2-cp36-cp36m-manylinux1_x86_64.whl (25.9MB)\n",
      "\u001b[K    100% |████████████████████████████████| 25.9MB 57kB/s eta 0:00:011 5% |█▉                              | 1.5MB 1.8MB/s eta 0:00:14\n",
      "\u001b[?25hCollecting sqlalchemy>=1.1.0 (from optuna)\n",
      "  Using cached https://files.pythonhosted.org/packages/7f/84/263ba21a9f2725a1b7236823bd732d80e23a4d79b2b121060b3ce039fd7b/SQLAlchemy-1.3.18-cp36-cp36m-manylinux1_x86_64.whl\n",
      "Collecting tqdm (from optuna)\n",
      "  Using cached https://files.pythonhosted.org/packages/af/88/7b0ea5fa8192d1733dea459a9e3059afc87819cb4072c43263f2ec7ab768/tqdm-4.48.0-py2.py3-none-any.whl\n",
      "Collecting flask-compress (from hiplot)\n",
      "Collecting flask (from hiplot)\n",
      "  Using cached https://files.pythonhosted.org/packages/f2/28/2a03252dfb9ebf377f40fba6a7841b47083260bf8bd8e737b0c6952df83f/Flask-1.1.2-py2.py3-none-any.whl\n",
      "Collecting ipython>=7.0.1 (from hiplot)\n",
      "  Using cached https://files.pythonhosted.org/packages/23/6a/210816c943c9aeeb29e4e18a298f14bf0e118fe222a23e13bfcc2d41b0a4/ipython-7.16.1-py3-none-any.whl\n",
      "Collecting beautifulsoup4 (from hiplot)\n",
      "  Using cached https://files.pythonhosted.org/packages/66/25/ff030e2437265616a1e9b25ccc864e0371a0bc3adb7c5a404fd661c6f4f6/beautifulsoup4-4.9.1-py3-none-any.whl\n",
      "Collecting python-dateutil (from alembic->optuna)\n",
      "  Using cached https://files.pythonhosted.org/packages/d4/70/d60450c3dd48ef87586924207ae8907090de0b306af2bce5d134d78615cb/python_dateutil-2.8.1-py2.py3-none-any.whl\n",
      "Collecting Mako (from alembic->optuna)\n",
      "  Using cached https://files.pythonhosted.org/packages/a6/37/0e706200d22172eb8fa17d68a7ae22dec7631a0a92266634fb518a88a5b2/Mako-1.1.3-py2.py3-none-any.whl\n",
      "Collecting python-editor>=0.3 (from alembic->optuna)\n",
      "  Using cached https://files.pythonhosted.org/packages/c6/d3/201fc3abe391bbae6606e6f1d598c15d367033332bd54352b12f35513717/python_editor-1.0.4-py3-none-any.whl\n",
      "Collecting PrettyTable<0.8,>=0.7.2 (from cliff->optuna)\n",
      "Collecting pyparsing>=2.1.0 (from cliff->optuna)\n",
      "  Using cached https://files.pythonhosted.org/packages/8a/bb/488841f56197b13700afd5658fc279a2025a39e22449b7cf29864669b15d/pyparsing-2.4.7-py2.py3-none-any.whl\n",
      "Collecting pbr!=2.1.0,>=2.0.0 (from cliff->optuna)\n",
      "  Using cached https://files.pythonhosted.org/packages/96/ba/aa953a11ec014b23df057ecdbc922fdb40ca8463466b1193f3367d2711a6/pbr-5.4.5-py2.py3-none-any.whl\n",
      "Collecting cmd2!=0.8.3,>=0.8.0 (from cliff->optuna)\n",
      "  Using cached https://files.pythonhosted.org/packages/db/17/641b563f5839c61a4767a070644ff2be3f70fe0d8ddd879a52dbd4976980/cmd2-1.2.1-py3-none-any.whl\n",
      "Collecting PyYAML>=3.12 (from cliff->optuna)\n",
      "Collecting six>=1.10.0 (from cliff->optuna)\n",
      "  Using cached https://files.pythonhosted.org/packages/ee/ff/48bde5c0f013094d729fe4b0316ba2a24774b3ff1c52d924a8a4cb04078a/six-1.15.0-py2.py3-none-any.whl\n",
      "Collecting stevedore>=1.20.0 (from cliff->optuna)\n",
      "  Using cached https://files.pythonhosted.org/packages/d6/f4/041afc90e684f2b7d00a7f49abcbaf0b8c03e916bbc398ce49dce2a3c408/stevedore-3.2.0-py3-none-any.whl\n",
      "Collecting brotli (from flask-compress->hiplot)\n",
      "  Using cached https://files.pythonhosted.org/packages/f4/68/60a220454dc5083c6d59b41aa90bb1c96fad62a0abf3a33e0ef64b38638a/Brotli-1.0.7-cp36-cp36m-manylinux1_x86_64.whl\n",
      "Collecting click>=5.1 (from flask->hiplot)\n",
      "  Using cached https://files.pythonhosted.org/packages/d2/3d/fa76db83bf75c4f8d338c2fd15c8d33fdd7ad23a9b5e57eb6c5de26b430e/click-7.1.2-py2.py3-none-any.whl\n",
      "Collecting itsdangerous>=0.24 (from flask->hiplot)\n",
      "  Using cached https://files.pythonhosted.org/packages/76/ae/44b03b253d6fade317f32c24d100b3b35c2239807046a4c953c7b89fa49e/itsdangerous-1.1.0-py2.py3-none-any.whl\n",
      "Collecting Jinja2>=2.10.1 (from flask->hiplot)\n",
      "  Using cached https://files.pythonhosted.org/packages/30/9e/f663a2aa66a09d838042ae1a2c5659828bb9b41ea3a6efa20a20fd92b121/Jinja2-2.11.2-py2.py3-none-any.whl\n",
      "Collecting Werkzeug>=0.15 (from flask->hiplot)\n",
      "  Using cached https://files.pythonhosted.org/packages/cc/94/5f7079a0e00bd6863ef8f1da638721e9da21e5bacee597595b318f71d62e/Werkzeug-1.0.1-py2.py3-none-any.whl\n",
      "Collecting backcall (from ipython>=7.0.1->hiplot)\n",
      "  Using cached https://files.pythonhosted.org/packages/4c/1c/ff6546b6c12603d8dd1070aa3c3d273ad4c07f5771689a7b69a550e8c951/backcall-0.2.0-py2.py3-none-any.whl\n",
      "Collecting setuptools>=18.5 (from ipython>=7.0.1->hiplot)\n",
      "  Using cached https://files.pythonhosted.org/packages/8e/11/9e10f1cad4518cb307b484c255cae61e97f05b82f6d536932b1714e01b47/setuptools-49.2.0-py3-none-any.whl\n",
      "Collecting pygments (from ipython>=7.0.1->hiplot)\n",
      "  Using cached https://files.pythonhosted.org/packages/2d/68/106af3ae51daf807e9cdcba6a90e518954eb8b70341cee52995540a53ead/Pygments-2.6.1-py3-none-any.whl\n",
      "Collecting jedi>=0.10 (from ipython>=7.0.1->hiplot)\n",
      "  Using cached https://files.pythonhosted.org/packages/c3/d4/36136b18daae06ad798966735f6c3fb96869c1be9f8245d2a8f556e40c36/jedi-0.17.2-py2.py3-none-any.whl\n",
      "Collecting decorator (from ipython>=7.0.1->hiplot)\n",
      "  Using cached https://files.pythonhosted.org/packages/ed/1b/72a1821152d07cf1d8b6fce298aeb06a7eb90f4d6d41acec9861e7cc6df0/decorator-4.4.2-py2.py3-none-any.whl\n",
      "Collecting traitlets>=4.2 (from ipython>=7.0.1->hiplot)\n",
      "  Using cached https://files.pythonhosted.org/packages/ca/ab/872a23e29cec3cf2594af7e857f18b687ad21039c1f9b922fac5b9b142d5/traitlets-4.3.3-py2.py3-none-any.whl\n",
      "Collecting pexpect; sys_platform != \"win32\" (from ipython>=7.0.1->hiplot)\n",
      "  Using cached https://files.pythonhosted.org/packages/39/7b/88dbb785881c28a102619d46423cb853b46dbccc70d3ac362d99773a78ce/pexpect-4.8.0-py2.py3-none-any.whl\n",
      "Collecting prompt-toolkit!=3.0.0,!=3.0.1,<3.1.0,>=2.0.0 (from ipython>=7.0.1->hiplot)\n",
      "  Using cached https://files.pythonhosted.org/packages/e4/a7/81b39aa50e9284fe2cb21cc7fb7de7817b224172d42793fd57451d38842b/prompt_toolkit-3.0.5-py3-none-any.whl\n",
      "Collecting pickleshare (from ipython>=7.0.1->hiplot)\n",
      "  Using cached https://files.pythonhosted.org/packages/9a/41/220f49aaea88bc6fa6cba8d05ecf24676326156c23b991e80b3f2fc24c77/pickleshare-0.7.5-py2.py3-none-any.whl\n",
      "Collecting soupsieve>1.2 (from beautifulsoup4->hiplot)\n",
      "  Using cached https://files.pythonhosted.org/packages/6f/8f/457f4a5390eeae1cc3aeab89deb7724c965be841ffca6cfca9197482e470/soupsieve-2.0.1-py3-none-any.whl\n",
      "Collecting MarkupSafe>=0.9.2 (from Mako->alembic->optuna)\n",
      "  Using cached https://files.pythonhosted.org/packages/b2/5f/23e0023be6bb885d00ffbefad2942bc51a620328ee910f64abe5a8d18dd1/MarkupSafe-1.1.1-cp36-cp36m-manylinux1_x86_64.whl\n",
      "Collecting pyperclip>=1.6 (from cmd2!=0.8.3,>=0.8.0->cliff->optuna)\n",
      "Collecting attrs>=16.3.0 (from cmd2!=0.8.3,>=0.8.0->cliff->optuna)\n"
     ]
    },
    {
     "name": "stdout",
     "output_type": "stream",
     "text": [
      "  Using cached https://files.pythonhosted.org/packages/a2/db/4313ab3be961f7a763066401fb77f7748373b6094076ae2bda2806988af6/attrs-19.3.0-py2.py3-none-any.whl\n",
      "Collecting wcwidth>=0.1.7 (from cmd2!=0.8.3,>=0.8.0->cliff->optuna)\n",
      "  Using cached https://files.pythonhosted.org/packages/59/7c/e39aca596badaf1b78e8f547c807b04dae603a433d3e7a7e04d67f2ef3e5/wcwidth-0.2.5-py2.py3-none-any.whl\n",
      "Collecting colorama>=0.3.7 (from cmd2!=0.8.3,>=0.8.0->cliff->optuna)\n",
      "  Using cached https://files.pythonhosted.org/packages/c9/dc/45cdef1b4d119eb96316b3117e6d5708a08029992b2fee2c143c7a0a5cc5/colorama-0.4.3-py2.py3-none-any.whl\n",
      "Collecting importlib-metadata>=1.6.0; python_version < \"3.8\" (from cmd2!=0.8.3,>=0.8.0->cliff->optuna)\n",
      "  Using cached https://files.pythonhosted.org/packages/8e/58/cdea07eb51fc2b906db0968a94700866fc46249bdc75cac23f9d13168929/importlib_metadata-1.7.0-py2.py3-none-any.whl\n",
      "Collecting parso<0.8.0,>=0.7.0 (from jedi>=0.10->ipython>=7.0.1->hiplot)\n",
      "  Downloading https://files.pythonhosted.org/packages/93/d1/e635bdde32890db5aeb2ffbde17e74f68986305a4466b0aa373b861e3f00/parso-0.7.1-py2.py3-none-any.whl (109kB)\n",
      "\u001b[K    100% |████████████████████████████████| 112kB 1.4MB/s ta 0:00:01\n",
      "\u001b[?25hCollecting ipython-genutils (from traitlets>=4.2->ipython>=7.0.1->hiplot)\n",
      "  Using cached https://files.pythonhosted.org/packages/fa/bc/9bd3b5c2b4774d5f33b2d544f1460be9df7df2fe42f352135381c347c69a/ipython_genutils-0.2.0-py2.py3-none-any.whl\n",
      "Collecting ptyprocess>=0.5 (from pexpect; sys_platform != \"win32\"->ipython>=7.0.1->hiplot)\n",
      "  Using cached https://files.pythonhosted.org/packages/d1/29/605c2cc68a9992d18dada28206eeada56ea4bd07a239669da41674648b6f/ptyprocess-0.6.0-py2.py3-none-any.whl\n",
      "Collecting zipp>=0.5 (from importlib-metadata>=1.6.0; python_version < \"3.8\"->cmd2!=0.8.3,>=0.8.0->cliff->optuna)\n",
      "  Using cached https://files.pythonhosted.org/packages/b2/34/bfcb43cc0ba81f527bc4f40ef41ba2ff4080e047acb0586b56b3d017ace4/zipp-3.1.0-py3-none-any.whl\n",
      "Building wheels for collected packages: optuna\n",
      "  Running setup.py bdist_wheel for optuna ... \u001b[?25ldone\n",
      "\u001b[?25h  Stored in directory: /home/rubio/.cache/pip/wheels/b5/c9/03/c45484454bf657ffed0ed6af153bd3d213928df115eb2a56eb\n",
      "Successfully built optuna\n",
      "Installing collected packages: sqlalchemy, six, python-dateutil, MarkupSafe, Mako, python-editor, alembic, PrettyTable, pyparsing, pbr, setuptools, pyperclip, attrs, wcwidth, colorama, zipp, importlib-metadata, cmd2, PyYAML, stevedore, cliff, numpy, cmaes, colorlog, joblib, packaging, scipy, tqdm, optuna, brotli, click, itsdangerous, Jinja2, Werkzeug, flask, flask-compress, backcall, pygments, parso, jedi, decorator, ipython-genutils, traitlets, ptyprocess, pexpect, prompt-toolkit, pickleshare, ipython, soupsieve, beautifulsoup4, hiplot\n",
      "Successfully installed Jinja2-2.11.2 Mako-1.1.3 MarkupSafe-1.1.1 PrettyTable-0.7.2 PyYAML-5.3.1 Werkzeug-1.0.1 alembic-1.4.2 attrs-19.3.0 backcall-0.2.0 beautifulsoup4-4.9.1 brotli-1.0.7 click-7.1.2 cliff-3.3.0 cmaes-0.6.0 cmd2-1.2.1 colorama-0.4.3 colorlog-4.2.1 decorator-4.4.2 flask-1.1.2 flask-compress-1.5.0 hiplot-0.1.18 importlib-metadata-1.7.0 ipython-7.16.1 ipython-genutils-0.2.0 itsdangerous-1.1.0 jedi-0.17.2 joblib-0.16.0 numpy-1.19.1 optuna-2.0.0 packaging-20.4 parso-0.7.1 pbr-5.4.5 pexpect-4.8.0 pickleshare-0.7.5 prompt-toolkit-3.0.5 ptyprocess-0.6.0 pygments-2.6.1 pyparsing-2.4.7 pyperclip-1.8.0 python-dateutil-2.8.1 python-editor-1.0.4 scipy-1.5.2 setuptools-49.2.0 six-1.15.0 soupsieve-2.0.1 sqlalchemy-1.3.18 stevedore-3.2.0 tqdm-4.48.0 traitlets-4.3.3 wcwidth-0.2.5 zipp-3.1.0\n"
     ]
    }
   ],
   "source": [
    "!pip3 install optuna hiplot numpy"
   ]
  },
  {
   "cell_type": "markdown",
   "metadata": {},
   "source": [
    "Lembre-se do método *drop* e *sample* da prática passada ;)"
   ]
  },
  {
   "cell_type": "markdown",
   "metadata": {},
   "source": [
    "## Parte 1 - Métricas de resultado, método de aprendizado e divisão por folds"
   ]
  },
  {
   "cell_type": "markdown",
   "metadata": {},
   "source": [
    "**Atividade 1**: Primeiramente, analise a classe `Resultado` que possui os seguintes atributos/propriedades: \n",
    "    \n",
    "   - **mat_confusão**: Retorna a matriz de confusão correpondente. Analise o código e entenda o que representa a linha e a coluna dessa matriz.\n",
    "    \n",
    "   - **precisao**:A partir da matriz de confusão, calcula a precisão por classe. Cada indice é o rótulo da classe. Caso o número de elementos previstos com uma determinada classe qualquer `c` seja zero, então `precisao[c] = 0`. Nesses casos, é [lançado um warning](https://docs.python.org/3.7/library/warnings.html) da classe `UndefinedMetricWarning` com uma mensagem que não havia instancias previstas para essa classe.\n",
    "   - **revocacao**: De forma similar à `precisao`, calcula a revocação por meio da matriz de confusão. Caso o número de elementos dessa classe seja igual a zero, então a revocação para esta class é zero e também deverá ser retornado um warning `UndefinedMetricWarning` com essa informação. \n",
    "   - **f1_por_classe**: Retorna, para cada classe, o seu valor F1. Caso a soma da precisão e revocação dessa classe seja zero, deverá ser retornado zero.\n",
    "\n",
    "Você deverá implementar as seguintes propriedades: \n",
    "\n",
    "   - **macro_f1**: Calcula a média do f1 por classe. O método [`np.average`](https://numpy.org/doc/stable/reference/generated/numpy.average.html) pode ajudar.\n",
    "   - **acuracia**: Calcula a acurácia  por meio da matriz de confusão.\n",
    "\n"
   ]
  },
  {
   "cell_type": "markdown",
   "metadata": {},
   "source": [
    "Logo após, execute os seguintes testes unitários: "
   ]
  },
  {
   "cell_type": "markdown",
   "metadata": {},
   "source": [
    "para validar o macro F1:"
   ]
  },
  {
   "cell_type": "code",
   "execution_count": 2,
   "metadata": {},
   "outputs": [
    {
     "name": "stdout",
     "output_type": "stream",
     "text": [
      ".\r\n",
      "----------------------------------------------------------------------\r\n",
      "Ran 1 test in 0.000s\r\n",
      "\r\n",
      "OK\r\n",
      "\u001b[0m"
     ]
    }
   ],
   "source": [
    "!python3 -m tests TestResultado.test_macro_f1"
   ]
  },
  {
   "cell_type": "markdown",
   "metadata": {},
   "source": [
    "Para validar a acurácia: "
   ]
  },
  {
   "cell_type": "code",
   "execution_count": 3,
   "metadata": {},
   "outputs": [
    {
     "name": "stdout",
     "output_type": "stream",
     "text": [
      ".\r\n",
      "----------------------------------------------------------------------\r\n",
      "Ran 1 test in 0.000s\r\n",
      "\r\n",
      "OK\r\n",
      "\u001b[0m"
     ]
    }
   ],
   "source": [
    "!python3 -m tests TestResultado.test_acuracia"
   ]
  },
  {
   "cell_type": "markdown",
   "metadata": {},
   "source": [
    "**Atividade 2 - Classe ScikitLearnAprendizadoDeMaquina: ** O arquivo `metodo.py` é o arquivo que possui os métodos de aprendizado de máquina. A classe `MetodoAprendizadoMaquina` é a classe abstrata para armazenar um método de aprendizado de máquina. Cada instancia, representa um método com seus determinados parametros. A classe `ScikitLearnaprendizadoDemaquina` é responsável por implementar métodos de aprendizado de máquina da API do [Scikit Learn](http://scikit-learn.org). Cada instancia desta classe armazena o respectivo método no atributo `ml_method`.  Por exemplo: \n",
    "\n"
   ]
  },
  {
   "cell_type": "code",
   "execution_count": 4,
   "metadata": {},
   "outputs": [],
   "source": [
    "from sklearn.ensemble import RandomForestClassifier\n",
    "from sklearn.tree import DecisionTreeClassifier\n",
    "from metodo import ScikitLearnAprendizadoDeMaquina\n",
    "\n",
    "#o primeiro método é uma arvore de decisao\n",
    "clf_dtree_1 = DecisionTreeClassifier(random_state=1,min_samples_split=0.3)\n",
    "metodo_1 = ScikitLearnAprendizadoDeMaquina(clf_dtree_1)\n",
    "\n",
    "#veja que o segundo método também é uma arvore de decisão, porém, com paramtros diferentes\n",
    "clf_dtree_2 = DecisionTreeClassifier(random_state=1,min_samples_split=0.2)\n",
    "metodo_2 = ScikitLearnAprendizadoDeMaquina(clf_dtree_1)\n",
    "\n",
    "#terceiro método é uma RandomForest\n",
    "clf_rforest = RandomForestClassifier(min_samples_split=0.3,n_estimators=100,\n",
    "                                            max_features=0.7)\n",
    "metodo_3 = ScikitLearnAprendizadoDeMaquina(clf_rforest)"
   ]
  },
  {
   "cell_type": "markdown",
   "metadata": {},
   "source": [
    "Você deverá implementar o método `eval` da classe `ScikitLearnAprendizadoDeMaquina`. O dado de treino está no DataFrame `df_treino` e o dado a ser avaliado (teste ou validação) é o `df_data_to_predict`. Tais DataFrames são compostos por um conjunto de colunas que são os atributos e uma coluna que é a classe alvo (o nome da coluna da classe está armazenado em `col_classe`).  Veja o exemplo abaixo:"
   ]
  },
  {
   "cell_type": "code",
   "execution_count": 5,
   "metadata": {},
   "outputs": [
    {
     "data": {
      "text/html": [
       "<div>\n",
       "<style scoped>\n",
       "    .dataframe tbody tr th:only-of-type {\n",
       "        vertical-align: middle;\n",
       "    }\n",
       "\n",
       "    .dataframe tbody tr th {\n",
       "        vertical-align: top;\n",
       "    }\n",
       "\n",
       "    .dataframe thead th {\n",
       "        text-align: right;\n",
       "    }\n",
       "</style>\n",
       "<table border=\"1\" class=\"dataframe\">\n",
       "  <thead>\n",
       "    <tr style=\"text-align: right;\">\n",
       "      <th></th>\n",
       "      <th>chuvoso</th>\n",
       "      <th>ventos fortes</th>\n",
       "      <th>ensolarado</th>\n",
       "      <th>jogar volei?</th>\n",
       "    </tr>\n",
       "  </thead>\n",
       "  <tbody>\n",
       "    <tr>\n",
       "      <th>0</th>\n",
       "      <td>sim</td>\n",
       "      <td>sim</td>\n",
       "      <td>não</td>\n",
       "      <td>não</td>\n",
       "    </tr>\n",
       "    <tr>\n",
       "      <th>1</th>\n",
       "      <td>não</td>\n",
       "      <td>não</td>\n",
       "      <td>sim</td>\n",
       "      <td>sim</td>\n",
       "    </tr>\n",
       "    <tr>\n",
       "      <th>2</th>\n",
       "      <td>sim</td>\n",
       "      <td>não</td>\n",
       "      <td>não</td>\n",
       "      <td>sim</td>\n",
       "    </tr>\n",
       "  </tbody>\n",
       "</table>\n",
       "</div>"
      ],
      "text/plain": [
       "  chuvoso ventos fortes ensolarado jogar volei?\n",
       "0     sim           sim        não          não\n",
       "1     não           não        sim          sim\n",
       "2     sim           não        não          sim"
      ]
     },
     "execution_count": 5,
     "metadata": {},
     "output_type": "execute_result"
    }
   ],
   "source": [
    "import pandas as pd\n",
    "df_treino = pd.DataFrame([[\"sim\",\"sim\",\"não\",\"não\"],\n",
    "                           [\"não\",\"não\",\"sim\",\"sim\"],\n",
    "                         [\"sim\",\"não\",\"não\",\"sim\"]],\n",
    "                        columns=[\"chuvoso\",\"ventos fortes\",\"ensolarado\",\"jogar volei?\"])\n",
    "df_treino"
   ]
  },
  {
   "cell_type": "markdown",
   "metadata": {},
   "source": [
    "Neste exemplo o objetivo é verificar se é possível jogar uma partida de vôlei dependendo das situações climáticas. Neste contexto, `chuvoso`, `ventos fortes` e `ensolarado` são os atributos e `jogar volei?` é a classe. "
   ]
  },
  {
   "cell_type": "markdown",
   "metadata": {},
   "source": [
    "Assim, você deve implementar o método `eval` da classe `ScikitLearnAprendizadoDeMaquina` para treinar e avaliar. Para isso, você deverá separar a coluna que se refere a classe e as colunas que se referem aos atributos. Logo após você deverá criar o modelo e executar obter a predições. No final, este método retorna uma instancia da classe `Resultado`. \n",
    "\n",
    "Execute o código abaixo para verificar o funcionamento deste método: "
   ]
  },
  {
   "cell_type": "code",
   "execution_count": 6,
   "metadata": {},
   "outputs": [
    {
     "name": "stdout",
     "output_type": "stream",
     "text": [
      "Macro f1: 0.5982142857142857 Acuracia: 0.6\r\n",
      ".\r\n",
      "----------------------------------------------------------------------\r\n",
      "Ran 1 test in 0.059s\r\n",
      "\r\n",
      "OK\r\n"
     ]
    }
   ],
   "source": [
    "!python3 -m tests MetodoTest.test_eval"
   ]
  },
  {
   "cell_type": "markdown",
   "metadata": {},
   "source": [
    "**Atividade 3 - Criação dos folds: ** O arquivo `resultado.py` possui a classe `Fold` que é responsável por armazenar o treino, teste e validação (quando existente). Essa classe possui os seguintes atributos: \n",
    "\n",
    "- `df_treino`: Dataframe as instancias de treino. Cada instancia é uma linha e, suas colunas, são seus atributos e a sua classe\n",
    "- `df_data_to_predict`: Dataframe com as instancias de teste, representada da mesma forma que `df_treino`\n",
    "- `col_classe`: Coluna que representa a classe alvo nos DataFrames `df_treino` e `df_data_to_predict`\n",
    "- `arr_folds_validacao`: vetor com os folds de validação. Os folds de validação são também instancias da classe Fold. Tais instancias são construidas a partir do treino - você irá fazer isso nesta atividade. \n",
    "\n",
    "** Atividade 3(a): ** Primeiramente, implemente o [método estático](https://daniel-hasan.github.io/cefet-web-grad/classes/python2/#heranca) `gerar_k_folds`. A principio, ignore os parametros  `num_folds_validacao` e `num_repeticoes_validacao`. Este método divide em vários fold os dados `df_dados`. Cada fold deverá ser representado por uma instancia da classe Fold. Deve-se dividir o dataset em $k$ folds (parâmetro  `val_k`) e podem ser feitas $n$ repetições (parâmetro `num_repeticoes`). A escolha das instancias é feita sempre aleatória e, em cada repetição, todos os valores devem estar presentes  em apenas um teste. O treino ficaria com o restante dos valores. Veja abaixo um exemplo se dividirmos em três folds com duas repetições. Foi feito uma função para dividir em três folds e um exemplo em que foi gerado 2 repetições dele.  Para isso, usou-se a função [sample](https://pandas.pydata.org/pandas-docs/stable/reference/api/pandas.DataFrame.sample.html) para embaralhar os dados e um seed fixo para que sempre embaralhar da mesma forma. Esse seed é essencial para que se garanta a repodutibilidade dos experimentos. "
   ]
  },
  {
   "cell_type": "code",
   "execution_count": 7,
   "metadata": {},
   "outputs": [],
   "source": [
    "from resultado import Fold\n",
    "import pandas as pd\n",
    "def gera_tres_folds(df_dados, col_classe): \n",
    "    \n",
    "    fold_1 = Fold(df_treino=df_dados[3:]                            ,df_data_to_predict=df_dados[0:3],col_classe=col_classe)\n",
    "    fold_2 = Fold(df_treino=pd.concat([df_dados[0:3],df_dados[6:]]), df_data_to_predict=df_dados[3:6],col_classe=col_classe)\n",
    "    fold_3 = Fold(df_treino=df_dados[0:6]                       , df_data_to_predict=df_dados[6:9],col_classe=col_classe)\n",
    "    \n",
    "    return fold_1, fold_2, fold_3\n",
    "\n",
    "colunas = [\"atributo_1\",\"classe_alvo\"]\n",
    "col_classe = \"classe_alvo\"\n",
    "df_dados = pd.DataFrame([[0,\"S\"],[1,\"S\"],[2,\"N\"],\n",
    "                   [3,\"N\"],[4,\"N\"],[5,\"S\"],\n",
    "                   [6,\"S\"],[7,\"N\"],[8,\"S\"]], columns=colunas)\n",
    "\n",
    "\n"
   ]
  },
  {
   "cell_type": "code",
   "execution_count": 8,
   "metadata": {},
   "outputs": [
    {
     "data": {
      "text/html": [
       "<div>\n",
       "<style scoped>\n",
       "    .dataframe tbody tr th:only-of-type {\n",
       "        vertical-align: middle;\n",
       "    }\n",
       "\n",
       "    .dataframe tbody tr th {\n",
       "        vertical-align: top;\n",
       "    }\n",
       "\n",
       "    .dataframe thead th {\n",
       "        text-align: right;\n",
       "    }\n",
       "</style>\n",
       "<table border=\"1\" class=\"dataframe\">\n",
       "  <thead>\n",
       "    <tr style=\"text-align: right;\">\n",
       "      <th></th>\n",
       "      <th>atributo_1</th>\n",
       "      <th>classe_alvo</th>\n",
       "    </tr>\n",
       "  </thead>\n",
       "  <tbody>\n",
       "    <tr>\n",
       "      <th>6</th>\n",
       "      <td>6</td>\n",
       "      <td>S</td>\n",
       "    </tr>\n",
       "    <tr>\n",
       "      <th>7</th>\n",
       "      <td>7</td>\n",
       "      <td>N</td>\n",
       "    </tr>\n",
       "    <tr>\n",
       "      <th>8</th>\n",
       "      <td>8</td>\n",
       "      <td>S</td>\n",
       "    </tr>\n",
       "  </tbody>\n",
       "</table>\n",
       "</div>"
      ],
      "text/plain": [
       "   atributo_1 classe_alvo\n",
       "6           6           S\n",
       "7           7           N\n",
       "8           8           S"
      ]
     },
     "execution_count": 8,
     "metadata": {},
     "output_type": "execute_result"
    }
   ],
   "source": [
    "#para ficar mais facil visualizar, comentamos o código abaixo e, assim, \n",
    "#. nao embaralhamos a primeira execução\n",
    "#. com isso, na primeira execucao os valores estarão ordenados de forma crescente \n",
    "#. pois foi esta a forma que foram inseridos\n",
    "#df_dados_rand = dados.sample(frac=1,random_state=2)\n",
    "fold_1,fold_2,fold_3 = gera_tres_folds(df_dados, col_classe)\n",
    "arr_folds = [fold_1,fold_2,fold_3]\n",
    "\n",
    "#veja o dado de treino ou a ser previsto de cada fold na primeira repetição \n",
    "#..(substitua o numero de fold o ou o atributo): \n",
    "fold_3.df_data_to_predict\n",
    "\n"
   ]
  },
  {
   "cell_type": "code",
   "execution_count": 11,
   "metadata": {},
   "outputs": [
    {
     "name": "stdout",
     "output_type": "stream",
     "text": [
      "Repeticao #0  Fold #0 instancias no treino: 6 teste: 3\n",
      "\tÍndices das instancias do treino: [3 4 5 6 7 8]\n",
      "\tÍndices das instancias a avaliar (teste ou validação): [0 1 2]\n",
      " \n",
      "Repeticao #0  Fold #1 instancias no treino: 6 teste: 3\n",
      "\tÍndices das instancias do treino: [0 1 2 6 7 8]\n",
      "\tÍndices das instancias a avaliar (teste ou validação): [3 4 5]\n",
      " \n",
      "Repeticao #0  Fold #2 instancias no treino: 6 teste: 3\n",
      "\tÍndices das instancias do treino: [0 1 2 3 4 5]\n",
      "\tÍndices das instancias a avaliar (teste ou validação): [6 7 8]\n",
      " \n",
      "Repeticao #1  Fold #0 instancias no treino: 6 teste: 3\n",
      "\tÍndices das instancias do treino: [3 4 5 6 7 8]\n",
      "\tÍndices das instancias a avaliar (teste ou validação): [0 1 2]\n",
      " \n",
      "Repeticao #1  Fold #1 instancias no treino: 6 teste: 3\n",
      "\tÍndices das instancias do treino: [0 1 2 6 7 8]\n",
      "\tÍndices das instancias a avaliar (teste ou validação): [3 4 5]\n",
      " \n",
      "Repeticao #1  Fold #2 instancias no treino: 6 teste: 3\n",
      "\tÍndices das instancias do treino: [0 1 2 3 4 5]\n",
      "\tÍndices das instancias a avaliar (teste ou validação): [6 7 8]\n",
      " \n"
     ]
    }
   ],
   "source": [
    "#Na segunda execução, os folds devem ser diferentes ao embaralhar\n",
    "#por isso, usamos uma seed diferente\n",
    "#verifique que, mesmo executando várias vezes, como o seed é fixo,\n",
    "#o dataframe é sempre embaralhado da mesma forma. Isso ajuda a garantir a reprodutibilidade.\n",
    "df_dados_rand = df_dados.sample(frac=1,random_state=2)\n",
    "fold_1,fold_2,fold_3 = gera_tres_folds(df_dados, col_classe)\n",
    "\n",
    "#adiciona mais os tres folds  na lista\n",
    "#veja em: https://www.geeksforgeeks.org/append-extend-python/\n",
    "arr_folds.extend([fold_1,fold_2,fold_3])\n",
    "\n",
    "#veja p resutado de todas as execucoes:\n",
    "num_repeticoes = 2\n",
    "val_k = 3\n",
    "for num_repeticao in range(num_repeticoes):\n",
    "    for num_fold in range(val_k):\n",
    "        i = val_k*num_repeticao+num_fold\n",
    "        df_treino  = arr_folds[i].df_treino\n",
    "        df_to_predict  = arr_folds[i].df_data_to_predict\n",
    "        qtd_treino = len(df_treino.index)\n",
    "        qtd_to_predict = len(df_to_predict.index)\n",
    "        print(f\"Repeticao #{num_repeticao}  Fold #{num_fold} instancias no treino: {qtd_treino} teste: {qtd_to_predict}\")\n",
    "        print(f\"\\tÍndices das instancias do treino: {df_treino.index.values}\")\n",
    "        print(f\"\\tÍndices das instancias a avaliar (teste ou validação): {df_to_predict.index.values}\")\n",
    "        print(\" \")"
   ]
  },
  {
   "cell_type": "markdown",
   "metadata": {},
   "source": [
    "Diferentemente da função implementada acima, o método a ser implementado por vocês deverá ter uma quantidade qualquer de repetições (parâmetro `num_repeticoes`) e folds por repetição (parâmetro `val_k`). Ao criar o fold, também é necessário saber a coluna da classe, para isso, o parametro `col_classe` armazena seu valor. Implemente o método `gerar_k_folds`. Logo após, execute o seguinte código unitário: "
   ]
  },
  {
   "cell_type": "code",
   "execution_count": 12,
   "metadata": {},
   "outputs": [
    {
     "name": "stdout",
     "output_type": "stream",
     "text": [
      ".\r\n",
      "----------------------------------------------------------------------\r\n",
      "Ran 1 test in 0.061s\r\n",
      "\r\n",
      "OK\r\n"
     ]
    }
   ],
   "source": [
    "!python3 -m tests TestFold.test_gerar_k_folds"
   ]
  },
  {
   "cell_type": "markdown",
   "metadata": {},
   "source": [
    "**Atividade 3(b):** Agora, você deverá inicialiar o atributo `arr_folds_validacao` com um vetor de folds de validação, por meio dos dados de treino, de acordo com o número de repetições e folds passados como parametro no construtor. Para isso, invoque o método `gerar_k_folds` no construtor - note que estes folds a serem criados não possuirão validação - possuirão apenas treino e dados a serem previstos (teste). \n",
    "\n",
    "Logo após, faça uma pequena modificação no `gerar_k_folds`: os parametros  `num_folds_validacao` e `num_repeticoes_validacao` indicam se o fold a ser criado possuirá validação. Ao instanciar o fold, esses parametros devem ser passados para o contrutor do Fold. Teste a execução a seguir: "
   ]
  },
  {
   "cell_type": "code",
   "execution_count": 13,
   "metadata": {},
   "outputs": [
    {
     "name": "stdout",
     "output_type": "stream",
     "text": [
      ".\r\n",
      "----------------------------------------------------------------------\r\n",
      "Ran 1 test in 0.006s\r\n",
      "\r\n",
      "OK\r\n"
     ]
    }
   ],
   "source": [
    "!python3 -m tests TestFold.test_arr_validacao"
   ]
  }
 ],
 "metadata": {
  "kernelspec": {
   "display_name": "Python 3.6.9 64-bit",
   "language": "python",
   "name": "python36964bit09fbf395f9be498698ee98b9d0fd1948"
  },
  "language_info": {
   "codemirror_mode": {
    "name": "ipython",
    "version": 3
   },
   "file_extension": ".py",
   "mimetype": "text/x-python",
   "name": "python",
   "nbconvert_exporter": "python",
   "pygments_lexer": "ipython3",
   "version": "3.6.9"
  }
 },
 "nbformat": 4,
 "nbformat_minor": 2
}
